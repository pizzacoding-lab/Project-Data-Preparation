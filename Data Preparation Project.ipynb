{
 "cells": [
  {
   "cell_type": "code",
   "execution_count": 1,
   "id": "2531c8f6",
   "metadata": {},
   "outputs": [],
   "source": [
    "import numpy as np\n",
    "import pandas as pd\n",
    "from matplotlib import pyplot as plt\n",
    "import seaborn as sns\n",
    "%matplotlib inline\n",
    "\n",
    "\n",
    "\n",
    "from IPython.core.interactiveshell import InteractiveShell\n",
    "InteractiveShell.ast_node_interactivity = \"all\""
   ]
  },
  {
   "cell_type": "code",
   "execution_count": 2,
   "id": "2ddef8ef",
   "metadata": {},
   "outputs": [
    {
     "name": "stderr",
     "output_type": "stream",
     "text": [
      "C:\\Users\\admin\\AppData\\Local\\Temp\\ipykernel_6776\\777016886.py:1: DtypeWarning: Columns (76) have mixed types. Specify dtype option on import or set low_memory=False.\n",
      "  df = pd.read_csv(\"fifa21.csv\")\n"
     ]
    }
   ],
   "source": [
    "df = pd.read_csv(\"fifa21.csv\")"
   ]
  },
  {
   "cell_type": "code",
   "execution_count": 3,
   "id": "23e3f4e7",
   "metadata": {},
   "outputs": [
    {
     "name": "stdout",
     "output_type": "stream",
     "text": [
      "<class 'pandas.core.frame.DataFrame'>\n",
      "RangeIndex: 18979 entries, 0 to 18978\n",
      "Data columns (total 77 columns):\n",
      " #   Column            Non-Null Count  Dtype \n",
      "---  ------            --------------  ----- \n",
      " 0   ID                18979 non-null  int64 \n",
      " 1   Name              18979 non-null  object\n",
      " 2   LongName          18979 non-null  object\n",
      " 3   photoUrl          18979 non-null  object\n",
      " 4   playerUrl         18979 non-null  object\n",
      " 5   Nationality       18979 non-null  object\n",
      " 6   Age               18979 non-null  int64 \n",
      " 7   ↓OVA              18979 non-null  int64 \n",
      " 8   POT               18979 non-null  int64 \n",
      " 9   Club              18979 non-null  object\n",
      " 10  Contract          18979 non-null  object\n",
      " 11  Positions         18979 non-null  object\n",
      " 12  Height            18979 non-null  object\n",
      " 13  Weight            18979 non-null  object\n",
      " 14  Preferred Foot    18979 non-null  object\n",
      " 15  BOV               18979 non-null  int64 \n",
      " 16  Best Position     18979 non-null  object\n",
      " 17  Joined            18979 non-null  object\n",
      " 18  Loan Date End     1013 non-null   object\n",
      " 19  Value             18979 non-null  object\n",
      " 20  Wage              18979 non-null  object\n",
      " 21  Release Clause    18979 non-null  object\n",
      " 22  Attacking         18979 non-null  int64 \n",
      " 23  Crossing          18979 non-null  int64 \n",
      " 24  Finishing         18979 non-null  int64 \n",
      " 25  Heading Accuracy  18979 non-null  int64 \n",
      " 26  Short Passing     18979 non-null  int64 \n",
      " 27  Volleys           18979 non-null  int64 \n",
      " 28  Skill             18979 non-null  int64 \n",
      " 29  Dribbling         18979 non-null  int64 \n",
      " 30  Curve             18979 non-null  int64 \n",
      " 31  FK Accuracy       18979 non-null  int64 \n",
      " 32  Long Passing      18979 non-null  int64 \n",
      " 33  Ball Control      18979 non-null  int64 \n",
      " 34  Movement          18979 non-null  int64 \n",
      " 35  Acceleration      18979 non-null  int64 \n",
      " 36  Sprint Speed      18979 non-null  int64 \n",
      " 37  Agility           18979 non-null  int64 \n",
      " 38  Reactions         18979 non-null  int64 \n",
      " 39  Balance           18979 non-null  int64 \n",
      " 40  Power             18979 non-null  int64 \n",
      " 41  Shot Power        18979 non-null  int64 \n",
      " 42  Jumping           18979 non-null  int64 \n",
      " 43  Stamina           18979 non-null  int64 \n",
      " 44  Strength          18979 non-null  int64 \n",
      " 45  Long Shots        18979 non-null  int64 \n",
      " 46  Mentality         18979 non-null  int64 \n",
      " 47  Aggression        18979 non-null  int64 \n",
      " 48  Interceptions     18979 non-null  int64 \n",
      " 49  Positioning       18979 non-null  int64 \n",
      " 50  Vision            18979 non-null  int64 \n",
      " 51  Penalties         18979 non-null  int64 \n",
      " 52  Composure         18979 non-null  int64 \n",
      " 53  Defending         18979 non-null  int64 \n",
      " 54  Marking           18979 non-null  int64 \n",
      " 55  Standing Tackle   18979 non-null  int64 \n",
      " 56  Sliding Tackle    18979 non-null  int64 \n",
      " 57  Goalkeeping       18979 non-null  int64 \n",
      " 58  GK Diving         18979 non-null  int64 \n",
      " 59  GK Handling       18979 non-null  int64 \n",
      " 60  GK Kicking        18979 non-null  int64 \n",
      " 61  GK Positioning    18979 non-null  int64 \n",
      " 62  GK Reflexes       18979 non-null  int64 \n",
      " 63  Total Stats       18979 non-null  int64 \n",
      " 64  Base Stats        18979 non-null  int64 \n",
      " 65  W/F               18979 non-null  object\n",
      " 66  SM                18979 non-null  object\n",
      " 67  A/W               18979 non-null  object\n",
      " 68  D/W               18979 non-null  object\n",
      " 69  IR                18979 non-null  object\n",
      " 70  PAC               18979 non-null  int64 \n",
      " 71  SHO               18979 non-null  int64 \n",
      " 72  PAS               18979 non-null  int64 \n",
      " 73  DRI               18979 non-null  int64 \n",
      " 74  DEF               18979 non-null  int64 \n",
      " 75  PHY               18979 non-null  int64 \n",
      " 76  Hits              16384 non-null  object\n",
      "dtypes: int64(54), object(23)\n",
      "memory usage: 11.1+ MB\n"
     ]
    }
   ],
   "source": [
    "df.info()"
   ]
  },
  {
   "cell_type": "code",
   "execution_count": 4,
   "id": "17ad2add",
   "metadata": {},
   "outputs": [],
   "source": [
    "df.drop('Loan Date End', axis=1, inplace=True)"
   ]
  },
  {
   "cell_type": "code",
   "execution_count": 5,
   "id": "555b31f3",
   "metadata": {},
   "outputs": [],
   "source": [
    "df['Height'] = df['Height'].str[:-2]\n",
    "df['Weight'] = df['Weight'].str[:-2]"
   ]
  },
  {
   "cell_type": "code",
   "execution_count": 6,
   "id": "7a29acd2",
   "metadata": {
    "scrolled": true
   },
   "outputs": [
    {
     "name": "stdout",
     "output_type": "stream",
     "text": [
      "0        170\n",
      "1        187\n",
      "2        188\n",
      "3        181\n",
      "4        175\n",
      "        ... \n",
      "18974    178\n",
      "18975    175\n",
      "18976    179\n",
      "18977    175\n",
      "18978    188\n",
      "Name: Height, Length: 18979, dtype: object\n",
      "0        72\n",
      "1        83\n",
      "2        87\n",
      "3        70\n",
      "4        68\n",
      "         ..\n",
      "18974    66\n",
      "18975    65\n",
      "18976    74\n",
      "18977    69\n",
      "18978    75\n",
      "Name: Weight, Length: 18979, dtype: object\n"
     ]
    }
   ],
   "source": [
    "print(df['Height'])\n",
    "print(df['Weight'])"
   ]
  },
  {
   "cell_type": "code",
   "execution_count": 7,
   "id": "54ae98c4",
   "metadata": {},
   "outputs": [
    {
     "name": "stdout",
     "output_type": "stream",
     "text": [
      "0               FC Barcelona\n",
      "1                   Juventus\n",
      "2            Atlético Madrid\n",
      "3            Manchester City\n",
      "4        Paris Saint-Germain\n",
      "                ...         \n",
      "18974             Wuhan Zall\n",
      "18975        Oldham Athletic\n",
      "18976             Derry City\n",
      "18977       Dalian YiFang FC\n",
      "18978       Dalian YiFang FC\n",
      "Name: Club, Length: 18979, dtype: object\n"
     ]
    }
   ],
   "source": [
    "df['Club'] = df['Club'].str.lstrip()\n",
    "df['Club'] = df['Club'].replace('No Club', 'No')\n",
    "print(df['Club'])"
   ]
  },
  {
   "cell_type": "code",
   "execution_count": 8,
   "id": "7c302b4e",
   "metadata": {},
   "outputs": [],
   "source": [
    "df[['Start Of Contract', 'End Of Contract']] = df['Contract'].str.split('~', n=1, expand=True)"
   ]
  },
  {
   "cell_type": "code",
   "execution_count": 9,
   "id": "9700b492",
   "metadata": {},
   "outputs": [],
   "source": [
    "df.drop('Contract', axis = 1, inplace=True)"
   ]
  },
  {
   "cell_type": "code",
   "execution_count": 10,
   "id": "031a9315",
   "metadata": {},
   "outputs": [
    {
     "name": "stdout",
     "output_type": "stream",
     "text": [
      "['2004 ' '2018 ' '2014 ' '2015 ' '2017 ' '2016 ' '2013 ' '2011 ' '2009 '\n",
      " '2005 ' '2010 ' '2012 ' '2019 ' '2020 ' '2008 ' '2007 '\n",
      " 'Jun 30, 2021 On Loan' 'Free' '2002 ' 'Dec 31, 2020 On Loan'\n",
      " 'Jan 30, 2021 On Loan' 'Jun 30, 2022 On Loan' 'May 31, 2021 On Loan'\n",
      " '2006 ' 'Jul 5, 2021 On Loan' 'Dec 31, 2021 On Loan'\n",
      " 'Jul 1, 2021 On Loan' 'Jan 1, 2021 On Loan' 'Aug 31, 2021 On Loan'\n",
      " '2003 ' 'Jan 31, 2021 On Loan' 'Dec 30, 2021 On Loan'\n",
      " 'Jun 23, 2021 On Loan' 'Jan 3, 2021 On Loan' 'Nov 27, 2021 On Loan'\n",
      " 'Jan 17, 2021 On Loan' 'Jun 30, 2023 On Loan' '1998 '\n",
      " 'Jul 31, 2021 On Loan' 'Nov 22, 2020 On Loan' 'May 31, 2022 On Loan'\n",
      " 'Dec 30, 2020 On Loan' 'Jan 4, 2021 On Loan' 'Nov 30, 2020 On Loan'\n",
      " 'Aug 1, 2021 On Loan']\n"
     ]
    }
   ],
   "source": [
    "unique_values = df['Start Of Contract'].unique()\n",
    "print(unique_values)"
   ]
  },
  {
   "cell_type": "code",
   "execution_count": 11,
   "id": "9842fb59",
   "metadata": {},
   "outputs": [
    {
     "name": "stdout",
     "output_type": "stream",
     "text": [
      "['771' '562' '150' '207' '595' '248' '246' '120' '1.6K' '130' '321' '189'\n",
      " '175' '96' '118' '216' '212' '154' '205' '202' '339' '408' '103' '332'\n",
      " '86' '173' '161' '396' '1.1K' '433' '242' '206' '177' '1.5K' '198' '459'\n",
      " '117' '119' '209' '84' '187' '165' '203' '65' '336' '126' '313' '124'\n",
      " '145' '538' '182' '101' '45' '377' '99' '194' '403' '414' '593' '374'\n",
      " '245' '3.2K' '266' '299' '309' '215' '265' '211' '112' '337' '70' '159'\n",
      " '688' '116' '63' '144' '123' '71' '224' '113' '168' '61' '89' '137' '278'\n",
      " '75' '148' '176' '197' '264' '214' '247' '402' '440' '1.7K' '2.3K' '171'\n",
      " '320' '657' '87' '259' '200' '255' '253' '196' '60' '97' '85' '169' '256'\n",
      " '132' '239' '166' '121' '109' '32' '46' '122' '48' '527' '199' '282' '51'\n",
      " '1.9K' '642' '155' '323' '288' '497' '509' '79' '49' '270' '511' '80'\n",
      " '128' '115' '156' '204' '143' '140' '152' '220' '134' '225' '94' '74'\n",
      " '135' '142' '50' '77' '40' '107' '193' '179' '34' '64' '453' '57' '81'\n",
      " '28' '78' '133' '43' '425' '88' '42' '36' '233' '376' '210' '444' '100'\n",
      " '263' '98' '29' '160' '39' '257' '6' '310' '138' '62' '293' '285' '362'\n",
      " '66' '69' '58' '21' '20' '131' '38' '406' '68' '108' '110' '93' '512'\n",
      " '443' '306' '352' '422' '585' '346' '178' '841' '76' '394' '72' '172'\n",
      " '44' '407' '230' '367' '295' '157' '243' '56' '111' '326' '679' '18' '92'\n",
      " '59' '25' '184' '53' '12' '90' '55' '73' '11' '566' '180' '83' '262' '17'\n",
      " '26' '31' '280' '359' '213' '297' '387' '480' '381' '677' '486' '8' '244'\n",
      " '129' '388' '275' '319' '2K' '52' '91' '421' '153' '27' '41' '222' '35'\n",
      " '102' '23' '30' '33' '146' '13' '19' '14' '106' '276' '568' '353' '47'\n",
      " '478' '249' '254' '369' '219' '565' '237' '227' '434' '375' '162' '605'\n",
      " '654' '3' '7' '9' '104' '114' '186' '446' '756' '22' '139' '500' '67'\n",
      " '147' '149' '16' '82' '54' '37' '15' '1.3K' '3K' '952' '5' '749' '541'\n",
      " '330' '393' '517' '770' '409' '170' '125' '283' '342' '363' '580' '105'\n",
      " '217' '24' '141' '10' '427' '158' '426' '4' '666' '181' '324' '979'\n",
      " '1.4K' '302' '751' '298' '411' '944' '2' '947' '292' '349' '621' '1'\n",
      " '2.8K' '338' '287' '261' '218' '1.8K' '240' '279' '229' '188' '315' '664'\n",
      " '613' '190' '706' '127' '462' '386' '695' '491' '167' '281' '250' '307'\n",
      " '95' '231' '174' '680' '633' '221' '348' '602' '183' '653' '195' '164'\n",
      " '151' '258' '8.4K' '343' '419' '655' '136' '399' '531' '357' '228' '385'\n",
      " '312' '340' '238' '487' '355' '499' '4.3K' '296' '515' '943' '1.2K' '903'\n",
      " '335' '191' '594' '267' '617' '516' '504' '331' '652' '410' '550' '473'\n",
      " '442' '344' '208' '1K' '2.5K' '273' '485' '826' '192' '405' '941' '477'\n",
      " '644' '303' '417' '6K' nan 11.0 2.0 1.0 31.0 3.0 10.0 9.0 17.0 7.0 4.0\n",
      " 6.0]\n"
     ]
    }
   ],
   "source": [
    "unique_values_2 = df['Hits'].unique()\n",
    "print(unique_values_2)"
   ]
  },
  {
   "cell_type": "code",
   "execution_count": 12,
   "id": "b3792906",
   "metadata": {},
   "outputs": [],
   "source": [
    "df['Start Of Contract'].replace('Jun 30, 2021 On Loan', '2021', inplace=True)\n",
    "df['Start Of Contract'].replace('Dec 31, 2020 On Loan', '2020', inplace=True)\n",
    "df['Start Of Contract'].replace('Jan 30, 2021 On Loan', '2021', inplace=True)\n",
    "df['Start Of Contract'].replace('Jun 30, 2022 On Loan', '2022', inplace=True)\n",
    "df['Start Of Contract'].replace('May 31, 2021 On Loan', '2021', inplace=True)\n",
    "df['Start Of Contract'].replace('Jul 5, 2021 On Loan', '2021', inplace=True)\n",
    "df['Start Of Contract'].replace('Dec 31, 2021 On Loan', '2021', inplace=True)\n",
    "df['Start Of Contract'].replace('Jul 1, 2021 On Loan', '2021', inplace=True)\n",
    "df['Start Of Contract'].replace('Jan 1, 2021 On Loan', '2021', inplace=True)\n",
    "df['Start Of Contract'].replace('Aug 31, 2021 On Loan', '2021', inplace=True)\n",
    "df['Start Of Contract'].replace('Jan 31, 2021 On Loan', '2021', inplace=True)\n",
    "df['Start Of Contract'].replace('Dec 30, 2021 On Loan', '2021', inplace=True)\n",
    "df['Start Of Contract'].replace('Jun 23, 2021 On Loan', '2021', inplace=True)\n",
    "df['Start Of Contract'].replace('Jul 5, 2021 On Loan', '2021', inplace=True)\n",
    "df['Start Of Contract'].replace('Jan 3, 2021 On Loan', '2021', inplace=True)\n",
    "df['Start Of Contract'].replace('Nov 27, 2021 On Loan', '2021', inplace=True)\n",
    "df['Start Of Contract'].replace('Jan 17, 2021 On Loan', '2021', inplace=True)\n",
    "df['Start Of Contract'].replace('Jun 30, 2023 On Loan', '2023', inplace=True)\n",
    "df['Start Of Contract'].replace('Jul 31, 2021 On Loan', '2021', inplace=True)\n",
    "df['Start Of Contract'].replace('Nov 22, 2020 On Loan', '2020', inplace=True)\n",
    "df['Start Of Contract'].replace('May 31, 2022 On Loan', '2022', inplace=True)\n",
    "df['Start Of Contract'].replace('Dec 30, 2020 On Loan', '2020', inplace=True)\n",
    "df['Start Of Contract'].replace('Jan 4, 2021 On Loan', '2021', inplace=True)\n",
    "df['Start Of Contract'].replace('Nov 30, 2020 On Loan', '2020', inplace=True)\n",
    "df['Start Of Contract'].replace('Aug 1, 2021 On Loan', '2021', inplace=True)"
   ]
  },
  {
   "cell_type": "code",
   "execution_count": 13,
   "id": "f73cb92b",
   "metadata": {},
   "outputs": [],
   "source": [
    "df['End Of Contract'].replace('', pd.NA, inplace=True)"
   ]
  },
  {
   "cell_type": "code",
   "execution_count": 14,
   "id": "7cb1f93f",
   "metadata": {},
   "outputs": [],
   "source": [
    "df['End Of Contract'].fillna(df['Start Of Contract'], inplace=True)"
   ]
  },
  {
   "cell_type": "code",
   "execution_count": 15,
   "id": "49116855",
   "metadata": {},
   "outputs": [],
   "source": [
    "df['Start Of Contract'].replace('free', pd.NA, inplace=True)\n",
    "df['End Of Contract'].replace('free', pd.NA, inplace=True)"
   ]
  },
  {
   "cell_type": "code",
   "execution_count": 16,
   "id": "762199e3",
   "metadata": {},
   "outputs": [],
   "source": [
    "def clean_column(df, column_name):\n",
    "    def clean_amount(value):\n",
    "        # Remove currency symbols\n",
    "        if isinstance(value, str):\n",
    "            value = value.replace('â‚¬', '').replace('€', '').replace('â˜…','').replace('★','')\n",
    "        \n",
    "        # Check for 'M' (million) and 'K' (thousand) and convert accordingly\n",
    "            if 'M' in value:\n",
    "                return float(value.replace('M', '')) * 1_000_000\n",
    "            elif 'K' in value:\n",
    "                return float(value.replace('K', '')) * 1_000\n",
    "            else:\n",
    "                return float(value)  # In case no 'M' or 'K' is present\n",
    "            return value  # If it's already a float or numeric value\n",
    "    df[column_name + '_Cleaned'] = df[column_name].apply(clean_amount)\n",
    "    \n",
    "    return df\n",
    "        \n",
    "\n",
    "df = clean_column(df, 'Value')\n",
    "df = clean_column(df, 'Wage')\n",
    "df = clean_column(df, 'Release Clause')\n",
    "df = clean_column(df, 'W/F')\n",
    "df = clean_column(df, 'SM')\n",
    "df = clean_column(df, 'IR')\n",
    "df = clean_column(df, 'Hits')"
   ]
  },
  {
   "cell_type": "code",
   "execution_count": 17,
   "id": "4bafcfb3",
   "metadata": {},
   "outputs": [],
   "source": [
    "df.drop('Value', axis=1, inplace=True)\n",
    "df.drop('Wage', axis=1, inplace=True)\n",
    "df.drop('Release Clause', axis=1, inplace=True)\n",
    "df.drop('W/F', axis=1, inplace=True)\n",
    "df.drop('SM', axis=1, inplace=True)\n",
    "df.drop('IR', axis=1, inplace=True)\n",
    "df.drop('Hits', axis=1, inplace=True)"
   ]
  },
  {
   "cell_type": "code",
   "execution_count": 18,
   "id": "f30eab8f",
   "metadata": {},
   "outputs": [],
   "source": [
    "df.to_csv('df.csv', index=False)"
   ]
  },
  {
   "cell_type": "code",
   "execution_count": null,
   "id": "693575d0",
   "metadata": {},
   "outputs": [],
   "source": []
  }
 ],
 "metadata": {
  "kernelspec": {
   "display_name": "Python 3 (ipykernel)",
   "language": "python",
   "name": "python3"
  },
  "language_info": {
   "codemirror_mode": {
    "name": "ipython",
    "version": 3
   },
   "file_extension": ".py",
   "mimetype": "text/x-python",
   "name": "python",
   "nbconvert_exporter": "python",
   "pygments_lexer": "ipython3",
   "version": "3.11.5"
  }
 },
 "nbformat": 4,
 "nbformat_minor": 5
}
